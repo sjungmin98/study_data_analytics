{
  "nbformat": 4,
  "nbformat_minor": 0,
  "metadata": {
    "colab": {
      "provenance": []
    },
    "kernelspec": {
      "name": "python3",
      "display_name": "Python 3"
    },
    "language_info": {
      "name": "python"
    }
  },
  "cells": [
    {
      "cell_type": "code",
      "source": [
        "### 한글 폰트 설치\n",
        "!apt-get install -y fonts-nanum\n",
        "!fc-cache -fv\n",
        "!rm ~/.cache/matplotlib -rf\n",
        "# 설치 후 colab의 경우 Runtime > Restart session 필요"
      ],
      "metadata": {
        "colab": {
          "base_uri": "https://localhost:8080/"
        },
        "id": "J4dfKaBoWE9r",
        "outputId": "a8f3af26-3dcb-420b-d2df-c6bd24901018"
      },
      "execution_count": 1,
      "outputs": [
        {
          "output_type": "stream",
          "name": "stdout",
          "text": [
            "Reading package lists... Done\n",
            "Building dependency tree... Done\n",
            "Reading state information... Done\n",
            "fonts-nanum is already the newest version (20200506-1).\n",
            "0 upgraded, 0 newly installed, 0 to remove and 32 not upgraded.\n",
            "/usr/share/fonts: caching, new cache contents: 0 fonts, 1 dirs\n",
            "/usr/share/fonts/truetype: caching, new cache contents: 0 fonts, 3 dirs\n",
            "/usr/share/fonts/truetype/humor-sans: caching, new cache contents: 1 fonts, 0 dirs\n",
            "/usr/share/fonts/truetype/liberation: caching, new cache contents: 16 fonts, 0 dirs\n",
            "/usr/share/fonts/truetype/nanum: caching, new cache contents: 12 fonts, 0 dirs\n",
            "/usr/local/share/fonts: caching, new cache contents: 0 fonts, 0 dirs\n",
            "/root/.local/share/fonts: skipping, no such directory\n",
            "/root/.fonts: skipping, no such directory\n",
            "/usr/share/fonts/truetype: skipping, looped directory detected\n",
            "/usr/share/fonts/truetype/humor-sans: skipping, looped directory detected\n",
            "/usr/share/fonts/truetype/liberation: skipping, looped directory detected\n",
            "/usr/share/fonts/truetype/nanum: skipping, looped directory detected\n",
            "/var/cache/fontconfig: cleaning cache directory\n",
            "/root/.cache/fontconfig: not cleaning non-existent cache directory\n",
            "/root/.fontconfig: not cleaning non-existent cache directory\n",
            "fc-cache: succeeded\n"
          ]
        }
      ]
    },
    {
      "cell_type": "code",
      "execution_count": 2,
      "metadata": {
        "colab": {
          "base_uri": "https://localhost:8080/",
          "height": 554
        },
        "id": "bEWsZH8-7mUR",
        "outputId": "c66d7e04-8e04-4daf-de4d-435b7e654cba"
      },
      "outputs": [
        {
          "output_type": "execute_result",
          "data": {
            "text/plain": [
              "    결제수단                   배송번호               배송시작일               배송완료일  \\\n",
              "0  무통장입금  D-20181227-0000648-00  2019-01-07 오전 8:56  2019-01-11 오전 5:32   \n",
              "1  무통장입금  D-20181229-0000119-00  2019-01-03 오전 9:30  2019-01-07 오전 5:32   \n",
              "2  무통장입금  D-20181230-0000100-00  2019-01-03 오전 9:30  2019-01-07 오전 5:32   \n",
              "3  무통장입금  D-20181231-0000087-00  2019-01-03 오전 9:30  2019-01-07 오전 5:32   \n",
              "4  무통장입금  D-20181231-0000108-00  2019-01-07 오전 8:56  2019-01-11 오전 5:32   \n",
              "5  무통장입금  D-20181231-0000108-01  2019-01-07 오전 8:56  2019-01-11 오전 5:32   \n",
              "6  무통장입금  D-20181231-0000184-00  2019-01-03 오전 9:30  2019-01-07 오전 5:32   \n",
              "7  무통장입금  D-20181231-0000184-01  2019-01-03 오전 9:30  2019-01-07 오전 5:32   \n",
              "8  무통장입금  D-20181231-0000184-02  2019-01-03 오전 9:30  2019-01-07 오전 5:32   \n",
              "9  무통장입금  D-20181231-0000184-03  2019-01-03 오전 9:30  2019-01-07 오전 5:32   \n",
              "\n",
              "   상품구매금액    상품번호  수량   주문경로       주문일  \n",
              "0   71450  1077.0   1  PC쇼핑몰  20181227  \n",
              "1  141240    42.0   2   모바일웹  20181229  \n",
              "2   13910  1271.0   1   모바일웹  20181230  \n",
              "3   81600  1085.0   1   모바일웹  20181231  \n",
              "4   94710  1106.0   1   모바일웹  20181231  \n",
              "5   75240  1374.0   1   모바일웹  20181231  \n",
              "6   82170  1071.0   1  PC쇼핑몰  20181231  \n",
              "7   63470  1373.0   1  PC쇼핑몰  20181231  \n",
              "8  300960  1374.0   4  PC쇼핑몰  20181231  \n",
              "9  121110  1037.0   1  PC쇼핑몰  20181231  "
            ],
            "text/html": [
              "\n",
              "  <div id=\"df-d555d2da-272d-4b1b-81c9-2267ecd6b693\" class=\"colab-df-container\">\n",
              "    <div>\n",
              "<style scoped>\n",
              "    .dataframe tbody tr th:only-of-type {\n",
              "        vertical-align: middle;\n",
              "    }\n",
              "\n",
              "    .dataframe tbody tr th {\n",
              "        vertical-align: top;\n",
              "    }\n",
              "\n",
              "    .dataframe thead th {\n",
              "        text-align: right;\n",
              "    }\n",
              "</style>\n",
              "<table border=\"1\" class=\"dataframe\">\n",
              "  <thead>\n",
              "    <tr style=\"text-align: right;\">\n",
              "      <th></th>\n",
              "      <th>결제수단</th>\n",
              "      <th>배송번호</th>\n",
              "      <th>배송시작일</th>\n",
              "      <th>배송완료일</th>\n",
              "      <th>상품구매금액</th>\n",
              "      <th>상품번호</th>\n",
              "      <th>수량</th>\n",
              "      <th>주문경로</th>\n",
              "      <th>주문일</th>\n",
              "    </tr>\n",
              "  </thead>\n",
              "  <tbody>\n",
              "    <tr>\n",
              "      <th>0</th>\n",
              "      <td>무통장입금</td>\n",
              "      <td>D-20181227-0000648-00</td>\n",
              "      <td>2019-01-07 오전 8:56</td>\n",
              "      <td>2019-01-11 오전 5:32</td>\n",
              "      <td>71450</td>\n",
              "      <td>1077.0</td>\n",
              "      <td>1</td>\n",
              "      <td>PC쇼핑몰</td>\n",
              "      <td>20181227</td>\n",
              "    </tr>\n",
              "    <tr>\n",
              "      <th>1</th>\n",
              "      <td>무통장입금</td>\n",
              "      <td>D-20181229-0000119-00</td>\n",
              "      <td>2019-01-03 오전 9:30</td>\n",
              "      <td>2019-01-07 오전 5:32</td>\n",
              "      <td>141240</td>\n",
              "      <td>42.0</td>\n",
              "      <td>2</td>\n",
              "      <td>모바일웹</td>\n",
              "      <td>20181229</td>\n",
              "    </tr>\n",
              "    <tr>\n",
              "      <th>2</th>\n",
              "      <td>무통장입금</td>\n",
              "      <td>D-20181230-0000100-00</td>\n",
              "      <td>2019-01-03 오전 9:30</td>\n",
              "      <td>2019-01-07 오전 5:32</td>\n",
              "      <td>13910</td>\n",
              "      <td>1271.0</td>\n",
              "      <td>1</td>\n",
              "      <td>모바일웹</td>\n",
              "      <td>20181230</td>\n",
              "    </tr>\n",
              "    <tr>\n",
              "      <th>3</th>\n",
              "      <td>무통장입금</td>\n",
              "      <td>D-20181231-0000087-00</td>\n",
              "      <td>2019-01-03 오전 9:30</td>\n",
              "      <td>2019-01-07 오전 5:32</td>\n",
              "      <td>81600</td>\n",
              "      <td>1085.0</td>\n",
              "      <td>1</td>\n",
              "      <td>모바일웹</td>\n",
              "      <td>20181231</td>\n",
              "    </tr>\n",
              "    <tr>\n",
              "      <th>4</th>\n",
              "      <td>무통장입금</td>\n",
              "      <td>D-20181231-0000108-00</td>\n",
              "      <td>2019-01-07 오전 8:56</td>\n",
              "      <td>2019-01-11 오전 5:32</td>\n",
              "      <td>94710</td>\n",
              "      <td>1106.0</td>\n",
              "      <td>1</td>\n",
              "      <td>모바일웹</td>\n",
              "      <td>20181231</td>\n",
              "    </tr>\n",
              "    <tr>\n",
              "      <th>5</th>\n",
              "      <td>무통장입금</td>\n",
              "      <td>D-20181231-0000108-01</td>\n",
              "      <td>2019-01-07 오전 8:56</td>\n",
              "      <td>2019-01-11 오전 5:32</td>\n",
              "      <td>75240</td>\n",
              "      <td>1374.0</td>\n",
              "      <td>1</td>\n",
              "      <td>모바일웹</td>\n",
              "      <td>20181231</td>\n",
              "    </tr>\n",
              "    <tr>\n",
              "      <th>6</th>\n",
              "      <td>무통장입금</td>\n",
              "      <td>D-20181231-0000184-00</td>\n",
              "      <td>2019-01-03 오전 9:30</td>\n",
              "      <td>2019-01-07 오전 5:32</td>\n",
              "      <td>82170</td>\n",
              "      <td>1071.0</td>\n",
              "      <td>1</td>\n",
              "      <td>PC쇼핑몰</td>\n",
              "      <td>20181231</td>\n",
              "    </tr>\n",
              "    <tr>\n",
              "      <th>7</th>\n",
              "      <td>무통장입금</td>\n",
              "      <td>D-20181231-0000184-01</td>\n",
              "      <td>2019-01-03 오전 9:30</td>\n",
              "      <td>2019-01-07 오전 5:32</td>\n",
              "      <td>63470</td>\n",
              "      <td>1373.0</td>\n",
              "      <td>1</td>\n",
              "      <td>PC쇼핑몰</td>\n",
              "      <td>20181231</td>\n",
              "    </tr>\n",
              "    <tr>\n",
              "      <th>8</th>\n",
              "      <td>무통장입금</td>\n",
              "      <td>D-20181231-0000184-02</td>\n",
              "      <td>2019-01-03 오전 9:30</td>\n",
              "      <td>2019-01-07 오전 5:32</td>\n",
              "      <td>300960</td>\n",
              "      <td>1374.0</td>\n",
              "      <td>4</td>\n",
              "      <td>PC쇼핑몰</td>\n",
              "      <td>20181231</td>\n",
              "    </tr>\n",
              "    <tr>\n",
              "      <th>9</th>\n",
              "      <td>무통장입금</td>\n",
              "      <td>D-20181231-0000184-03</td>\n",
              "      <td>2019-01-03 오전 9:30</td>\n",
              "      <td>2019-01-07 오전 5:32</td>\n",
              "      <td>121110</td>\n",
              "      <td>1037.0</td>\n",
              "      <td>1</td>\n",
              "      <td>PC쇼핑몰</td>\n",
              "      <td>20181231</td>\n",
              "    </tr>\n",
              "  </tbody>\n",
              "</table>\n",
              "</div>\n",
              "    <div class=\"colab-df-buttons\">\n",
              "\n",
              "  <div class=\"colab-df-container\">\n",
              "    <button class=\"colab-df-convert\" onclick=\"convertToInteractive('df-d555d2da-272d-4b1b-81c9-2267ecd6b693')\"\n",
              "            title=\"Convert this dataframe to an interactive table.\"\n",
              "            style=\"display:none;\">\n",
              "\n",
              "  <svg xmlns=\"http://www.w3.org/2000/svg\" height=\"24px\" viewBox=\"0 -960 960 960\">\n",
              "    <path d=\"M120-120v-720h720v720H120Zm60-500h600v-160H180v160Zm220 220h160v-160H400v160Zm0 220h160v-160H400v160ZM180-400h160v-160H180v160Zm440 0h160v-160H620v160ZM180-180h160v-160H180v160Zm440 0h160v-160H620v160Z\"/>\n",
              "  </svg>\n",
              "    </button>\n",
              "\n",
              "  <style>\n",
              "    .colab-df-container {\n",
              "      display:flex;\n",
              "      gap: 12px;\n",
              "    }\n",
              "\n",
              "    .colab-df-convert {\n",
              "      background-color: #E8F0FE;\n",
              "      border: none;\n",
              "      border-radius: 50%;\n",
              "      cursor: pointer;\n",
              "      display: none;\n",
              "      fill: #1967D2;\n",
              "      height: 32px;\n",
              "      padding: 0 0 0 0;\n",
              "      width: 32px;\n",
              "    }\n",
              "\n",
              "    .colab-df-convert:hover {\n",
              "      background-color: #E2EBFA;\n",
              "      box-shadow: 0px 1px 2px rgba(60, 64, 67, 0.3), 0px 1px 3px 1px rgba(60, 64, 67, 0.15);\n",
              "      fill: #174EA6;\n",
              "    }\n",
              "\n",
              "    .colab-df-buttons div {\n",
              "      margin-bottom: 4px;\n",
              "    }\n",
              "\n",
              "    [theme=dark] .colab-df-convert {\n",
              "      background-color: #3B4455;\n",
              "      fill: #D2E3FC;\n",
              "    }\n",
              "\n",
              "    [theme=dark] .colab-df-convert:hover {\n",
              "      background-color: #434B5C;\n",
              "      box-shadow: 0px 1px 3px 1px rgba(0, 0, 0, 0.15);\n",
              "      filter: drop-shadow(0px 1px 2px rgba(0, 0, 0, 0.3));\n",
              "      fill: #FFFFFF;\n",
              "    }\n",
              "  </style>\n",
              "\n",
              "    <script>\n",
              "      const buttonEl =\n",
              "        document.querySelector('#df-d555d2da-272d-4b1b-81c9-2267ecd6b693 button.colab-df-convert');\n",
              "      buttonEl.style.display =\n",
              "        google.colab.kernel.accessAllowed ? 'block' : 'none';\n",
              "\n",
              "      async function convertToInteractive(key) {\n",
              "        const element = document.querySelector('#df-d555d2da-272d-4b1b-81c9-2267ecd6b693');\n",
              "        const dataTable =\n",
              "          await google.colab.kernel.invokeFunction('convertToInteractive',\n",
              "                                                    [key], {});\n",
              "        if (!dataTable) return;\n",
              "\n",
              "        const docLinkHtml = 'Like what you see? Visit the ' +\n",
              "          '<a target=\"_blank\" href=https://colab.research.google.com/notebooks/data_table.ipynb>data table notebook</a>'\n",
              "          + ' to learn more about interactive tables.';\n",
              "        element.innerHTML = '';\n",
              "        dataTable['output_type'] = 'display_data';\n",
              "        await google.colab.output.renderOutput(dataTable, element);\n",
              "        const docLink = document.createElement('div');\n",
              "        docLink.innerHTML = docLinkHtml;\n",
              "        element.appendChild(docLink);\n",
              "      }\n",
              "    </script>\n",
              "  </div>\n",
              "\n",
              "\n",
              "<div id=\"df-d7d89753-980c-48f2-b85e-a7a0b905ff37\">\n",
              "  <button class=\"colab-df-quickchart\" onclick=\"quickchart('df-d7d89753-980c-48f2-b85e-a7a0b905ff37')\"\n",
              "            title=\"Suggest charts\"\n",
              "            style=\"display:none;\">\n",
              "\n",
              "<svg xmlns=\"http://www.w3.org/2000/svg\" height=\"24px\"viewBox=\"0 0 24 24\"\n",
              "     width=\"24px\">\n",
              "    <g>\n",
              "        <path d=\"M19 3H5c-1.1 0-2 .9-2 2v14c0 1.1.9 2 2 2h14c1.1 0 2-.9 2-2V5c0-1.1-.9-2-2-2zM9 17H7v-7h2v7zm4 0h-2V7h2v10zm4 0h-2v-4h2v4z\"/>\n",
              "    </g>\n",
              "</svg>\n",
              "  </button>\n",
              "\n",
              "<style>\n",
              "  .colab-df-quickchart {\n",
              "      --bg-color: #E8F0FE;\n",
              "      --fill-color: #1967D2;\n",
              "      --hover-bg-color: #E2EBFA;\n",
              "      --hover-fill-color: #174EA6;\n",
              "      --disabled-fill-color: #AAA;\n",
              "      --disabled-bg-color: #DDD;\n",
              "  }\n",
              "\n",
              "  [theme=dark] .colab-df-quickchart {\n",
              "      --bg-color: #3B4455;\n",
              "      --fill-color: #D2E3FC;\n",
              "      --hover-bg-color: #434B5C;\n",
              "      --hover-fill-color: #FFFFFF;\n",
              "      --disabled-bg-color: #3B4455;\n",
              "      --disabled-fill-color: #666;\n",
              "  }\n",
              "\n",
              "  .colab-df-quickchart {\n",
              "    background-color: var(--bg-color);\n",
              "    border: none;\n",
              "    border-radius: 50%;\n",
              "    cursor: pointer;\n",
              "    display: none;\n",
              "    fill: var(--fill-color);\n",
              "    height: 32px;\n",
              "    padding: 0;\n",
              "    width: 32px;\n",
              "  }\n",
              "\n",
              "  .colab-df-quickchart:hover {\n",
              "    background-color: var(--hover-bg-color);\n",
              "    box-shadow: 0 1px 2px rgba(60, 64, 67, 0.3), 0 1px 3px 1px rgba(60, 64, 67, 0.15);\n",
              "    fill: var(--button-hover-fill-color);\n",
              "  }\n",
              "\n",
              "  .colab-df-quickchart-complete:disabled,\n",
              "  .colab-df-quickchart-complete:disabled:hover {\n",
              "    background-color: var(--disabled-bg-color);\n",
              "    fill: var(--disabled-fill-color);\n",
              "    box-shadow: none;\n",
              "  }\n",
              "\n",
              "  .colab-df-spinner {\n",
              "    border: 2px solid var(--fill-color);\n",
              "    border-color: transparent;\n",
              "    border-bottom-color: var(--fill-color);\n",
              "    animation:\n",
              "      spin 1s steps(1) infinite;\n",
              "  }\n",
              "\n",
              "  @keyframes spin {\n",
              "    0% {\n",
              "      border-color: transparent;\n",
              "      border-bottom-color: var(--fill-color);\n",
              "      border-left-color: var(--fill-color);\n",
              "    }\n",
              "    20% {\n",
              "      border-color: transparent;\n",
              "      border-left-color: var(--fill-color);\n",
              "      border-top-color: var(--fill-color);\n",
              "    }\n",
              "    30% {\n",
              "      border-color: transparent;\n",
              "      border-left-color: var(--fill-color);\n",
              "      border-top-color: var(--fill-color);\n",
              "      border-right-color: var(--fill-color);\n",
              "    }\n",
              "    40% {\n",
              "      border-color: transparent;\n",
              "      border-right-color: var(--fill-color);\n",
              "      border-top-color: var(--fill-color);\n",
              "    }\n",
              "    60% {\n",
              "      border-color: transparent;\n",
              "      border-right-color: var(--fill-color);\n",
              "    }\n",
              "    80% {\n",
              "      border-color: transparent;\n",
              "      border-right-color: var(--fill-color);\n",
              "      border-bottom-color: var(--fill-color);\n",
              "    }\n",
              "    90% {\n",
              "      border-color: transparent;\n",
              "      border-bottom-color: var(--fill-color);\n",
              "    }\n",
              "  }\n",
              "</style>\n",
              "\n",
              "  <script>\n",
              "    async function quickchart(key) {\n",
              "      const quickchartButtonEl =\n",
              "        document.querySelector('#' + key + ' button');\n",
              "      quickchartButtonEl.disabled = true;  // To prevent multiple clicks.\n",
              "      quickchartButtonEl.classList.add('colab-df-spinner');\n",
              "      try {\n",
              "        const charts = await google.colab.kernel.invokeFunction(\n",
              "            'suggestCharts', [key], {});\n",
              "      } catch (error) {\n",
              "        console.error('Error during call to suggestCharts:', error);\n",
              "      }\n",
              "      quickchartButtonEl.classList.remove('colab-df-spinner');\n",
              "      quickchartButtonEl.classList.add('colab-df-quickchart-complete');\n",
              "    }\n",
              "    (() => {\n",
              "      let quickchartButtonEl =\n",
              "        document.querySelector('#df-d7d89753-980c-48f2-b85e-a7a0b905ff37 button');\n",
              "      quickchartButtonEl.style.display =\n",
              "        google.colab.kernel.accessAllowed ? 'block' : 'none';\n",
              "    })();\n",
              "  </script>\n",
              "</div>\n",
              "\n",
              "    </div>\n",
              "  </div>\n"
            ]
          },
          "metadata": {},
          "execution_count": 2
        }
      ],
      "source": [
        "import seaborn as sns\n",
        "import matplotlib.pyplot as plt\n",
        "import matplotlib as mpl\n",
        "mpl.rc('font', family='NanumBarunGothic') # 혹은 다른 설치한 Nanum 폰트 사용\n",
        "import pandas as pd\n",
        "import numpy as np\n",
        "# 샘플 데이터 생성 (이상치 포함)\n",
        "df_data = pd.read_csv(\"ShoppingMallDeliveryWithDate.csv\")\n",
        "df_data[:10]"
      ]
    },
    {
      "cell_type": "code",
      "source": [
        "df_data.shape"
      ],
      "metadata": {
        "colab": {
          "base_uri": "https://localhost:8080/"
        },
        "id": "UhgCnpZjQkBq",
        "outputId": "84451e89-50a3-413c-ccaf-49f7928bf2c1"
      },
      "execution_count": 3,
      "outputs": [
        {
          "output_type": "execute_result",
          "data": {
            "text/plain": [
              "(46749, 9)"
            ]
          },
          "metadata": {},
          "execution_count": 3
        }
      ]
    },
    {
      "cell_type": "markdown",
      "source": [
        "## 배송 지연 확인"
      ],
      "metadata": {
        "id": "duK0dd6NSRGT"
      }
    },
    {
      "cell_type": "code",
      "source": [
        "delivery_start = df_data['배송시작일'].sort_index()\n",
        "delivery_start"
      ],
      "metadata": {
        "colab": {
          "base_uri": "https://localhost:8080/"
        },
        "id": "loajCyb1QkmR",
        "outputId": "10469f58-a2b9-4808-a9c0-c68cab59facf"
      },
      "execution_count": 4,
      "outputs": [
        {
          "output_type": "execute_result",
          "data": {
            "text/plain": [
              "0         2019-01-07 오전 8:56\n",
              "1         2019-01-03 오전 9:30\n",
              "2         2019-01-03 오전 9:30\n",
              "3         2019-01-03 오전 9:30\n",
              "4         2019-01-07 오전 8:56\n",
              "                ...         \n",
              "46744     2017-12-29 오후 4:32\n",
              "46745     2018-01-03 오전 9:45\n",
              "46746     2018-01-02 오후 7:06\n",
              "46747     2018-01-03 오후 2:00\n",
              "46748    2018-01-03 오후 12:43\n",
              "Name: 배송시작일, Length: 46749, dtype: object"
            ]
          },
          "metadata": {},
          "execution_count": 4
        }
      ]
    },
    {
      "cell_type": "code",
      "source": [
        "delivery_end = df_data['배송완료일'].sort_index()\n",
        "delivery_end"
      ],
      "metadata": {
        "colab": {
          "base_uri": "https://localhost:8080/"
        },
        "id": "necOfOBTSWDb",
        "outputId": "748f7c17-2742-4f15-a1aa-7fccb4167a15"
      },
      "execution_count": 5,
      "outputs": [
        {
          "output_type": "execute_result",
          "data": {
            "text/plain": [
              "0        2019-01-11 오전 5:32\n",
              "1        2019-01-07 오전 5:32\n",
              "2        2019-01-07 오전 5:32\n",
              "3        2019-01-07 오전 5:32\n",
              "4        2019-01-11 오전 5:32\n",
              "                ...        \n",
              "46744    2018-01-02 오전 5:31\n",
              "46745    2018-01-07 오전 5:38\n",
              "46746    2018-01-11 오전 2:46\n",
              "46747    2018-01-06 오후 6:06\n",
              "46748    2018-01-07 오전 5:38\n",
              "Name: 배송완료일, Length: 46749, dtype: object"
            ]
          },
          "metadata": {},
          "execution_count": 5
        }
      ]
    },
    {
      "cell_type": "code",
      "source": [
        "# '오전'과 '오후'를 'AM'과 'PM'으로 치환\n",
        "df_data['배송시작일'] = df_data['배송시작일'].str.replace('오전', 'AM').str.replace('오후', 'PM')\n",
        "df_data['배송완료일'] = df_data['배송완료일'].str.replace('오전', 'AM').str.replace('오후', 'PM')"
      ],
      "metadata": {
        "id": "kWzxJ1Z6U2hS"
      },
      "execution_count": 6,
      "outputs": []
    },
    {
      "cell_type": "code",
      "source": [
        "# 날짜형으로 변환\n",
        "df_data['배송시작일'] = pd.to_datetime(df_data['배송시작일'], format='%Y-%m-%d %p %I:%M')\n",
        "df_data['배송완료일'] = pd.to_datetime(df_data['배송완료일'], format='%Y-%m-%d %p %I:%M')\n",
        "df_data['배송시작일'].info()"
      ],
      "metadata": {
        "colab": {
          "base_uri": "https://localhost:8080/"
        },
        "id": "awybmMqrT9kT",
        "outputId": "fffa9327-f10c-4186-8ef9-9c61097b879a"
      },
      "execution_count": 7,
      "outputs": [
        {
          "output_type": "stream",
          "name": "stdout",
          "text": [
            "<class 'pandas.core.series.Series'>\n",
            "RangeIndex: 46749 entries, 0 to 46748\n",
            "Series name: 배송시작일\n",
            "Non-Null Count  Dtype         \n",
            "--------------  -----         \n",
            "46749 non-null  datetime64[ns]\n",
            "dtypes: datetime64[ns](1)\n",
            "memory usage: 365.4 KB\n"
          ]
        }
      ]
    },
    {
      "cell_type": "code",
      "source": [
        "df_data['배송완료일'].info()"
      ],
      "metadata": {
        "colab": {
          "base_uri": "https://localhost:8080/"
        },
        "id": "j5vWDCuKVDzS",
        "outputId": "286bd64c-4050-4c96-95cf-30901afa556e"
      },
      "execution_count": 8,
      "outputs": [
        {
          "output_type": "stream",
          "name": "stdout",
          "text": [
            "<class 'pandas.core.series.Series'>\n",
            "RangeIndex: 46749 entries, 0 to 46748\n",
            "Series name: 배송완료일\n",
            "Non-Null Count  Dtype         \n",
            "--------------  -----         \n",
            "46749 non-null  datetime64[ns]\n",
            "dtypes: datetime64[ns](1)\n",
            "memory usage: 365.4 KB\n"
          ]
        }
      ]
    },
    {
      "cell_type": "code",
      "source": [
        "# 배송시간 계산\n",
        "df_data['배송시간'] = (df_data['배송완료일'] - df_data['배송시작일']).dt.days\n",
        "df_data['배송시간']"
      ],
      "metadata": {
        "colab": {
          "base_uri": "https://localhost:8080/"
        },
        "id": "AjsnjNJTUNGZ",
        "outputId": "753d6fed-ca76-4e20-f907-979bd3c015df"
      },
      "execution_count": 9,
      "outputs": [
        {
          "output_type": "execute_result",
          "data": {
            "text/plain": [
              "0        3\n",
              "1        3\n",
              "2        3\n",
              "3        3\n",
              "4        3\n",
              "        ..\n",
              "46744    3\n",
              "46745    3\n",
              "46746    8\n",
              "46747    3\n",
              "46748    3\n",
              "Name: 배송시간, Length: 46749, dtype: int64"
            ]
          },
          "metadata": {},
          "execution_count": 9
        }
      ]
    },
    {
      "cell_type": "code",
      "source": [
        "# 배송시간을 범주형으로 변환\n",
        "bins = [0, 2, 4, 6, 8, 10, np.inf]\n",
        "labels = ['0-2', '2-4', '4-6', '6-8', '8-10', '10+']\n",
        "df_data['배송시간_확인'] = pd.cut(df_data['배송시간'], bins=bins, labels=labels)\n",
        "df_data['배송시간_확인']"
      ],
      "metadata": {
        "colab": {
          "base_uri": "https://localhost:8080/"
        },
        "id": "LM0J9kjkUFla",
        "outputId": "0c8cd71a-0835-4340-e7bc-2bc5640f1d14"
      },
      "execution_count": 10,
      "outputs": [
        {
          "output_type": "execute_result",
          "data": {
            "text/plain": [
              "0        2-4\n",
              "1        2-4\n",
              "2        2-4\n",
              "3        2-4\n",
              "4        2-4\n",
              "        ... \n",
              "46744    2-4\n",
              "46745    2-4\n",
              "46746    6-8\n",
              "46747    2-4\n",
              "46748    2-4\n",
              "Name: 배송시간_확인, Length: 46749, dtype: category\n",
              "Categories (6, object): ['0-2' < '2-4' < '4-6' < '6-8' < '8-10' < '10+']"
            ]
          },
          "metadata": {},
          "execution_count": 10
        }
      ]
    },
    {
      "cell_type": "code",
      "source": [
        "plt.figure(figsize=(10,6))\n",
        "sns.countplot(x='배송시간_확인', data=df_data, order=labels)\n",
        "plt.title('배송시간 별 주문 건수')\n",
        "plt.xlabel('배송시간 (일)')\n",
        "plt.ylabel('주문 건수')\n",
        "plt.show()"
      ],
      "metadata": {
        "colab": {
          "base_uri": "https://localhost:8080/",
          "height": 523
        },
        "id": "cLjO1fHDVqrS",
        "outputId": "4f74295b-ed09-4db3-a8b1-34736a6df04e"
      },
      "execution_count": 11,
      "outputs": [
        {
          "output_type": "display_data",
          "data": {
            "text/plain": [
              "<Figure size 1000x600 with 1 Axes>"
            ],
            "image/png": "[encoded data removed]"
          },
          "metadata": {}
        }
      ]
    }
  ]
}
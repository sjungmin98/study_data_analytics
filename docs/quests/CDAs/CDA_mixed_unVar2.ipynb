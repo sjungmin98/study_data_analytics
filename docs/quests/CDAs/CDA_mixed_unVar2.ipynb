{
  "nbformat": 4,
  "nbformat_minor": 0,
  "metadata": {
    "colab": {
      "provenance": []
    },
    "kernelspec": {
      "name": "python3",
      "display_name": "Python 3"
    },
    "language_info": {
      "name": "python"
    }
  },
  "cells": [
    {
      "cell_type": "markdown",
      "source": [
        "## 한글 폰트 설치"
      ],
      "metadata": {
        "id": "jMdyoKSDxKKV"
      }
    },
    {
      "cell_type": "code",
      "source": [
        "# 한글 폰트 설치\n",
        "!apt-get install -y fonts-nanum\n",
        "!fc-cache -fv\n",
        "!rm ~/.cache/matplotlib -rf\n",
        "# 설치 후 colab 경우 Runtime > Restart session 필요"
      ],
      "metadata": {
        "id": "9qDqrVw8xK7t",
        "colab": {
          "base_uri": "https://localhost:8080/"
        },
        "outputId": "47658a6d-9f8d-42ea-9c36-c46c2a58198f"
      },
      "execution_count": null,
      "outputs": [
        {
          "output_type": "stream",
          "name": "stdout",
          "text": [
            "Reading package lists... Done\n",
            "Building dependency tree... Done\n",
            "Reading state information... Done\n",
            "fonts-nanum is already the newest version (20200506-1).\n",
            "0 upgraded, 0 newly installed, 0 to remove and 32 not upgraded.\n",
            "/usr/share/fonts: caching, new cache contents: 0 fonts, 1 dirs\n",
            "/usr/share/fonts/truetype: caching, new cache contents: 0 fonts, 3 dirs\n",
            "/usr/share/fonts/truetype/humor-sans: caching, new cache contents: 1 fonts, 0 dirs\n",
            "/usr/share/fonts/truetype/liberation: caching, new cache contents: 16 fonts, 0 dirs\n",
            "/usr/share/fonts/truetype/nanum: caching, new cache contents: 12 fonts, 0 dirs\n",
            "/usr/local/share/fonts: caching, new cache contents: 0 fonts, 0 dirs\n",
            "/root/.local/share/fonts: skipping, no such directory\n",
            "/root/.fonts: skipping, no such directory\n",
            "/usr/share/fonts/truetype: skipping, looped directory detected\n",
            "/usr/share/fonts/truetype/humor-sans: skipping, looped directory detected\n",
            "/usr/share/fonts/truetype/liberation: skipping, looped directory detected\n",
            "/usr/share/fonts/truetype/nanum: skipping, looped directory detected\n",
            "/var/cache/fontconfig: cleaning cache directory\n",
            "/root/.cache/fontconfig: not cleaning non-existent cache directory\n",
            "/root/.fontconfig: not cleaning non-existent cache directory\n",
            "fc-cache: succeeded\n"
          ]
        }
      ]
    },
    {
      "cell_type": "markdown",
      "source": [
        "## matplotlib 시각화"
      ],
      "metadata": {
        "id": "OtdRvTbaxwMt"
      }
    },
    {
      "cell_type": "code",
      "source": [
        "import matplotlib.pyplot as plt\n",
        "import matplotlib as mpl\n",
        "mpl.rc('font', family='NanumBarunGothic') # 혹은 다른 설치한 Nanum 폰트 사용\n"
      ],
      "metadata": {
        "id": "SJxJ3X61xzm2"
      },
      "execution_count": null,
      "outputs": []
    },
    {
      "cell_type": "markdown",
      "source": [
        "## load dataset"
      ],
      "metadata": {
        "id": "dEJondIXx4KN"
      }
    },
    {
      "cell_type": "code",
      "source": [
        "import pandas as pd\n",
        "df_FSSH = pd.read_csv('fruitstore_saleshistory.csv')\n",
        "df_FSSH[:3]"
      ],
      "metadata": {
        "colab": {
          "base_uri": "https://localhost:8080/",
          "height": 476
        },
        "id": "5-S5xEy7x5AM",
        "outputId": "e5f85d1d-561e-439a-eecb-928abb8811a7"
      },
      "execution_count": 1,
      "outputs": [
        {
          "output_type": "execute_result",
          "data": {
            "text/plain": [
              "         공급일자 요일  공급월  공급주차        회원번호 조합원상태 물품대분류 물품중분류  물품소분류  \\\n",
              "0  2018-01-02  화    1     1   272369856  정상회원    과실    과일     사과   \n",
              "1  2018-01-02  화    1     1  1506656256  정상회원    채소    버섯  느타리버섯   \n",
              "2  2018-01-02  화    1     1  1506656256  정상회원   축산물     알    유정란   \n",
              "\n",
              "                물품명  구매수량 주소-구  주소-동 성별    연령    연령대   구매금액 구매매장  반품_원거래일자  \\\n",
              "0       사과/유(1.5kg)   1.0  수지구  풍덕천동  여  45.0    40대  22207  매장C       NaN   \n",
              "1       느타리버섯(300g)   1.0  수지구  풍덕천동  여  36.0  30대이하   4977  매장C       NaN   \n",
              "2  유정란/매장용(10알/국내산)   1.0  수지구  풍덕천동  여  36.0  30대이하   7083  매장C       NaN   \n",
              "\n",
              "    구매시각  \n",
              "0  10:04  \n",
              "1  10:05  \n",
              "2  10:05  "
            ],
            "text/html": [
              "\n",
              "  <div id=\"df-55b1bcc3-a472-4c58-a91c-f361d161c33e\" class=\"colab-df-container\">\n",
              "    <div>\n",
              "<style scoped>\n",
              "    .dataframe tbody tr th:only-of-type {\n",
              "        vertical-align: middle;\n",
              "    }\n",
              "\n",
              "    .dataframe tbody tr th {\n",
              "        vertical-align: top;\n",
              "    }\n",
              "\n",
              "    .dataframe thead th {\n",
              "        text-align: right;\n",
              "    }\n",
              "</style>\n",
              "<table border=\"1\" class=\"dataframe\">\n",
              "  <thead>\n",
              "    <tr style=\"text-align: right;\">\n",
              "      <th></th>\n",
              "      <th>공급일자</th>\n",
              "      <th>요일</th>\n",
              "      <th>공급월</th>\n",
              "      <th>공급주차</th>\n",
              "      <th>회원번호</th>\n",
              "      <th>조합원상태</th>\n",
              "      <th>물품대분류</th>\n",
              "      <th>물품중분류</th>\n",
              "      <th>물품소분류</th>\n",
              "      <th>물품명</th>\n",
              "      <th>구매수량</th>\n",
              "      <th>주소-구</th>\n",
              "      <th>주소-동</th>\n",
              "      <th>성별</th>\n",
              "      <th>연령</th>\n",
              "      <th>연령대</th>\n",
              "      <th>구매금액</th>\n",
              "      <th>구매매장</th>\n",
              "      <th>반품_원거래일자</th>\n",
              "      <th>구매시각</th>\n",
              "    </tr>\n",
              "  </thead>\n",
              "  <tbody>\n",
              "    <tr>\n",
              "      <th>0</th>\n",
              "      <td>2018-01-02</td>\n",
              "      <td>화</td>\n",
              "      <td>1</td>\n",
              "      <td>1</td>\n",
              "      <td>272369856</td>\n",
              "      <td>정상회원</td>\n",
              "      <td>과실</td>\n",
              "      <td>과일</td>\n",
              "      <td>사과</td>\n",
              "      <td>사과/유(1.5kg)</td>\n",
              "      <td>1.0</td>\n",
              "      <td>수지구</td>\n",
              "      <td>풍덕천동</td>\n",
              "      <td>여</td>\n",
              "      <td>45.0</td>\n",
              "      <td>40대</td>\n",
              "      <td>22207</td>\n",
              "      <td>매장C</td>\n",
              "      <td>NaN</td>\n",
              "      <td>10:04</td>\n",
              "    </tr>\n",
              "    <tr>\n",
              "      <th>1</th>\n",
              "      <td>2018-01-02</td>\n",
              "      <td>화</td>\n",
              "      <td>1</td>\n",
              "      <td>1</td>\n",
              "      <td>1506656256</td>\n",
              "      <td>정상회원</td>\n",
              "      <td>채소</td>\n",
              "      <td>버섯</td>\n",
              "      <td>느타리버섯</td>\n",
              "      <td>느타리버섯(300g)</td>\n",
              "      <td>1.0</td>\n",
              "      <td>수지구</td>\n",
              "      <td>풍덕천동</td>\n",
              "      <td>여</td>\n",
              "      <td>36.0</td>\n",
              "      <td>30대이하</td>\n",
              "      <td>4977</td>\n",
              "      <td>매장C</td>\n",
              "      <td>NaN</td>\n",
              "      <td>10:05</td>\n",
              "    </tr>\n",
              "    <tr>\n",
              "      <th>2</th>\n",
              "      <td>2018-01-02</td>\n",
              "      <td>화</td>\n",
              "      <td>1</td>\n",
              "      <td>1</td>\n",
              "      <td>1506656256</td>\n",
              "      <td>정상회원</td>\n",
              "      <td>축산물</td>\n",
              "      <td>알</td>\n",
              "      <td>유정란</td>\n",
              "      <td>유정란/매장용(10알/국내산)</td>\n",
              "      <td>1.0</td>\n",
              "      <td>수지구</td>\n",
              "      <td>풍덕천동</td>\n",
              "      <td>여</td>\n",
              "      <td>36.0</td>\n",
              "      <td>30대이하</td>\n",
              "      <td>7083</td>\n",
              "      <td>매장C</td>\n",
              "      <td>NaN</td>\n",
              "      <td>10:05</td>\n",
              "    </tr>\n",
              "  </tbody>\n",
              "</table>\n",
              "</div>\n",
              "    <div class=\"colab-df-buttons\">\n",
              "\n",
              "  <div class=\"colab-df-container\">\n",
              "    <button class=\"colab-df-convert\" onclick=\"convertToInteractive('df-55b1bcc3-a472-4c58-a91c-f361d161c33e')\"\n",
              "            title=\"Convert this dataframe to an interactive table.\"\n",
              "            style=\"display:none;\">\n",
              "\n",
              "  <svg xmlns=\"http://www.w3.org/2000/svg\" height=\"24px\" viewBox=\"0 -960 960 960\">\n",
              "    <path d=\"M120-120v-720h720v720H120Zm60-500h600v-160H180v160Zm220 220h160v-160H400v160Zm0 220h160v-160H400v160ZM180-400h160v-160H180v160Zm440 0h160v-160H620v160ZM180-180h160v-160H180v160Zm440 0h160v-160H620v160Z\"/>\n",
              "  </svg>\n",
              "    </button>\n",
              "\n",
              "  <style>\n",
              "    .colab-df-container {\n",
              "      display:flex;\n",
              "      gap: 12px;\n",
              "    }\n",
              "\n",
              "    .colab-df-convert {\n",
              "      background-color: #E8F0FE;\n",
              "      border: none;\n",
              "      border-radius: 50%;\n",
              "      cursor: pointer;\n",
              "      display: none;\n",
              "      fill: #1967D2;\n",
              "      height: 32px;\n",
              "      padding: 0 0 0 0;\n",
              "      width: 32px;\n",
              "    }\n",
              "\n",
              "    .colab-df-convert:hover {\n",
              "      background-color: #E2EBFA;\n",
              "      box-shadow: 0px 1px 2px rgba(60, 64, 67, 0.3), 0px 1px 3px 1px rgba(60, 64, 67, 0.15);\n",
              "      fill: #174EA6;\n",
              "    }\n",
              "\n",
              "    .colab-df-buttons div {\n",
              "      margin-bottom: 4px;\n",
              "    }\n",
              "\n",
              "    [theme=dark] .colab-df-convert {\n",
              "      background-color: #3B4455;\n",
              "      fill: #D2E3FC;\n",
              "    }\n",
              "\n",
              "    [theme=dark] .colab-df-convert:hover {\n",
              "      background-color: #434B5C;\n",
              "      box-shadow: 0px 1px 3px 1px rgba(0, 0, 0, 0.15);\n",
              "      filter: drop-shadow(0px 1px 2px rgba(0, 0, 0, 0.3));\n",
              "      fill: #FFFFFF;\n",
              "    }\n",
              "  </style>\n",
              "\n",
              "    <script>\n",
              "      const buttonEl =\n",
              "        document.querySelector('#df-55b1bcc3-a472-4c58-a91c-f361d161c33e button.colab-df-convert');\n",
              "      buttonEl.style.display =\n",
              "        google.colab.kernel.accessAllowed ? 'block' : 'none';\n",
              "\n",
              "      async function convertToInteractive(key) {\n",
              "        const element = document.querySelector('#df-55b1bcc3-a472-4c58-a91c-f361d161c33e');\n",
              "        const dataTable =\n",
              "          await google.colab.kernel.invokeFunction('convertToInteractive',\n",
              "                                                    [key], {});\n",
              "        if (!dataTable) return;\n",
              "\n",
              "        const docLinkHtml = 'Like what you see? Visit the ' +\n",
              "          '<a target=\"_blank\" href=https://colab.research.google.com/notebooks/data_table.ipynb>data table notebook</a>'\n",
              "          + ' to learn more about interactive tables.';\n",
              "        element.innerHTML = '';\n",
              "        dataTable['output_type'] = 'display_data';\n",
              "        await google.colab.output.renderOutput(dataTable, element);\n",
              "        const docLink = document.createElement('div');\n",
              "        docLink.innerHTML = docLinkHtml;\n",
              "        element.appendChild(docLink);\n",
              "      }\n",
              "    </script>\n",
              "  </div>\n",
              "\n",
              "\n",
              "<div id=\"df-db43953e-87ee-432b-a63b-1fc26521d21c\">\n",
              "  <button class=\"colab-df-quickchart\" onclick=\"quickchart('df-db43953e-87ee-432b-a63b-1fc26521d21c')\"\n",
              "            title=\"Suggest charts\"\n",
              "            style=\"display:none;\">\n",
              "\n",
              "<svg xmlns=\"http://www.w3.org/2000/svg\" height=\"24px\"viewBox=\"0 0 24 24\"\n",
              "     width=\"24px\">\n",
              "    <g>\n",
              "        <path d=\"M19 3H5c-1.1 0-2 .9-2 2v14c0 1.1.9 2 2 2h14c1.1 0 2-.9 2-2V5c0-1.1-.9-2-2-2zM9 17H7v-7h2v7zm4 0h-2V7h2v10zm4 0h-2v-4h2v4z\"/>\n",
              "    </g>\n",
              "</svg>\n",
              "  </button>\n",
              "\n",
              "<style>\n",
              "  .colab-df-quickchart {\n",
              "      --bg-color: #E8F0FE;\n",
              "      --fill-color: #1967D2;\n",
              "      --hover-bg-color: #E2EBFA;\n",
              "      --hover-fill-color: #174EA6;\n",
              "      --disabled-fill-color: #AAA;\n",
              "      --disabled-bg-color: #DDD;\n",
              "  }\n",
              "\n",
              "  [theme=dark] .colab-df-quickchart {\n",
              "      --bg-color: #3B4455;\n",
              "      --fill-color: #D2E3FC;\n",
              "      --hover-bg-color: #434B5C;\n",
              "      --hover-fill-color: #FFFFFF;\n",
              "      --disabled-bg-color: #3B4455;\n",
              "      --disabled-fill-color: #666;\n",
              "  }\n",
              "\n",
              "  .colab-df-quickchart {\n",
              "    background-color: var(--bg-color);\n",
              "    border: none;\n",
              "    border-radius: 50%;\n",
              "    cursor: pointer;\n",
              "    display: none;\n",
              "    fill: var(--fill-color);\n",
              "    height: 32px;\n",
              "    padding: 0;\n",
              "    width: 32px;\n",
              "  }\n",
              "\n",
              "  .colab-df-quickchart:hover {\n",
              "    background-color: var(--hover-bg-color);\n",
              "    box-shadow: 0 1px 2px rgba(60, 64, 67, 0.3), 0 1px 3px 1px rgba(60, 64, 67, 0.15);\n",
              "    fill: var(--button-hover-fill-color);\n",
              "  }\n",
              "\n",
              "  .colab-df-quickchart-complete:disabled,\n",
              "  .colab-df-quickchart-complete:disabled:hover {\n",
              "    background-color: var(--disabled-bg-color);\n",
              "    fill: var(--disabled-fill-color);\n",
              "    box-shadow: none;\n",
              "  }\n",
              "\n",
              "  .colab-df-spinner {\n",
              "    border: 2px solid var(--fill-color);\n",
              "    border-color: transparent;\n",
              "    border-bottom-color: var(--fill-color);\n",
              "    animation:\n",
              "      spin 1s steps(1) infinite;\n",
              "  }\n",
              "\n",
              "  @keyframes spin {\n",
              "    0% {\n",
              "      border-color: transparent;\n",
              "      border-bottom-color: var(--fill-color);\n",
              "      border-left-color: var(--fill-color);\n",
              "    }\n",
              "    20% {\n",
              "      border-color: transparent;\n",
              "      border-left-color: var(--fill-color);\n",
              "      border-top-color: var(--fill-color);\n",
              "    }\n",
              "    30% {\n",
              "      border-color: transparent;\n",
              "      border-left-color: var(--fill-color);\n",
              "      border-top-color: var(--fill-color);\n",
              "      border-right-color: var(--fill-color);\n",
              "    }\n",
              "    40% {\n",
              "      border-color: transparent;\n",
              "      border-right-color: var(--fill-color);\n",
              "      border-top-color: var(--fill-color);\n",
              "    }\n",
              "    60% {\n",
              "      border-color: transparent;\n",
              "      border-right-color: var(--fill-color);\n",
              "    }\n",
              "    80% {\n",
              "      border-color: transparent;\n",
              "      border-right-color: var(--fill-color);\n",
              "      border-bottom-color: var(--fill-color);\n",
              "    }\n",
              "    90% {\n",
              "      border-color: transparent;\n",
              "      border-bottom-color: var(--fill-color);\n",
              "    }\n",
              "  }\n",
              "</style>\n",
              "\n",
              "  <script>\n",
              "    async function quickchart(key) {\n",
              "      const quickchartButtonEl =\n",
              "        document.querySelector('#' + key + ' button');\n",
              "      quickchartButtonEl.disabled = true;  // To prevent multiple clicks.\n",
              "      quickchartButtonEl.classList.add('colab-df-spinner');\n",
              "      try {\n",
              "        const charts = await google.colab.kernel.invokeFunction(\n",
              "            'suggestCharts', [key], {});\n",
              "      } catch (error) {\n",
              "        console.error('Error during call to suggestCharts:', error);\n",
              "      }\n",
              "      quickchartButtonEl.classList.remove('colab-df-spinner');\n",
              "      quickchartButtonEl.classList.add('colab-df-quickchart-complete');\n",
              "    }\n",
              "    (() => {\n",
              "      let quickchartButtonEl =\n",
              "        document.querySelector('#df-db43953e-87ee-432b-a63b-1fc26521d21c button');\n",
              "      quickchartButtonEl.style.display =\n",
              "        google.colab.kernel.accessAllowed ? 'block' : 'none';\n",
              "    })();\n",
              "  </script>\n",
              "</div>\n",
              "\n",
              "    </div>\n",
              "  </div>\n"
            ]
          },
          "metadata": {},
          "execution_count": 1
        }
      ]
    },
    {
      "cell_type": "markdown",
      "source": [
        "### 연속형 데이터 정규성 검정"
      ],
      "metadata": {
        "id": "SWryXqh9VvhQ"
      }
    },
    {
      "cell_type": "code",
      "source": [
        "# stats.anderson을 사용한 정규 분포 검정\n",
        "import scipy.stats as stats\n",
        "result = stats.anderson(df_FSSH['구매금액'].dropna())\n",
        "print('Test Statistic: %.3f' % result.statistic)\n",
        "for i in range(len(result.critical_values)):\n",
        "    sl, cv = result.significance_level[i], result.critical_values[i]\n",
        "    if result.statistic < cv:\n",
        "        print('%.1f%% 수준에서 데이터는 정규 분포를 따름 (검정 통계량 %.3f < 임계값 %.3f)' % (sl, result.statistic, cv))\n",
        "    else:\n",
        "        print('%.1f%% 수준에서 데이터는 정규 분포를 따르지 않음 (검정 통계량 %.3f >= 임계값 %.3f)' % (sl, result.statistic, cv))"
      ],
      "metadata": {
        "colab": {
          "base_uri": "https://localhost:8080/"
        },
        "id": "rcoXpacPVvCA",
        "outputId": "7bb333eb-79ed-4451-eb2e-7e4d9286de13"
      },
      "execution_count": 2,
      "outputs": [
        {
          "output_type": "stream",
          "name": "stdout",
          "text": [
            "Test Statistic: 80887.237\n",
            "15.0% 수준에서 데이터는 정규 분포를 따르지 않음 (검정 통계량 80887.237 >= 임계값 0.576)\n",
            "10.0% 수준에서 데이터는 정규 분포를 따르지 않음 (검정 통계량 80887.237 >= 임계값 0.656)\n",
            "5.0% 수준에서 데이터는 정규 분포를 따르지 않음 (검정 통계량 80887.237 >= 임계값 0.787)\n",
            "2.5% 수준에서 데이터는 정규 분포를 따르지 않음 (검정 통계량 80887.237 >= 임계값 0.918)\n",
            "1.0% 수준에서 데이터는 정규 분포를 따르지 않음 (검정 통계량 80887.237 >= 임계값 1.092)\n"
          ]
        }
      ]
    },
    {
      "cell_type": "markdown",
      "source": [
        "## 범주형 / 연속형 : 범주 대한 관계성 확인"
      ],
      "metadata": {
        "id": "rqHK5XjHClqc"
      }
    },
    {
      "cell_type": "markdown",
      "source": [
        "### 연속형이 비정규 분포이며, 범주형 항목이 3개 이상일 떄"
      ],
      "metadata": {
        "id": "1UN_lx3HEADr"
      }
    },
    {
      "cell_type": "markdown",
      "source": [
        "#### 예제 가설 : 요일, 구매금액(항목 2개 선택)"
      ],
      "metadata": {
        "id": "Onnn-61uD3pz"
      }
    },
    {
      "cell_type": "markdown",
      "source": [
        "#### 분석 내용 : 요일(범주형)에 따른 고객의 구매 금액(연속형) 분산을 비교하여, 특정 요일에 구매 금액의 변동성이 큰지 분석합니다.\n",
        "- 귀무 가설 : 요일별 고객의 구매 금액 분산이 이분산을 보이지 않는다.\n",
        "- 대립 가설 : 요일별 고객의 구매 금액 분산이 이분산을 보인다."
      ],
      "metadata": {
        "id": "UbIdjbwKD90L"
      }
    },
    {
      "cell_type": "markdown",
      "source": [
        "#### 요일 별 구매금액 합계 확인"
      ],
      "metadata": {
        "id": "HcmLoFbUgGW6"
      }
    },
    {
      "cell_type": "code",
      "source": [
        "purchase_sum_by_day = df_FSSH.groupby('요일')['구매금액'].sum()\n",
        "\n",
        "for day, sum in purchase_sum_by_day.items():\n",
        "    print(f\"요일이름: {day}, 구매금액 합계: {sum}\")\n"
      ],
      "metadata": {
        "colab": {
          "base_uri": "https://localhost:8080/"
        },
        "id": "nmgf1NvdfYHK",
        "outputId": "2753d3db-c730-4206-e948-8a5dd55f8aab"
      },
      "execution_count": 11,
      "outputs": [
        {
          "output_type": "stream",
          "name": "stdout",
          "text": [
            "요일이름: 금, 구매금액 합계: 1215650577\n",
            "요일이름: 목, 구매금액 합계: 1130698629\n",
            "요일이름: 수, 구매금액 합계: 1161404346\n",
            "요일이름: 월, 구매금액 합계: 1305186165\n",
            "요일이름: 일, 구매금액 합계: 591561808\n",
            "요일이름: 토, 구매금액 합계: 1076943090\n",
            "요일이름: 화, 구매금액 합계: 1223417575\n"
          ]
        }
      ]
    },
    {
      "cell_type": "markdown",
      "source": [
        "## 정규성 검증 필요\n"
      ],
      "metadata": {
        "id": "2-fmDhODOA_q"
      }
    },
    {
      "cell_type": "markdown",
      "source": [
        "### Kruskal Test\n",
        "- 연속형이 비정규 분포 이면서 범주형에 따른 항목이 등분산, 항목 갯수가 3개 이상"
      ],
      "metadata": {
        "id": "nikXb4qOg3g7"
      }
    },
    {
      "cell_type": "code",
      "source": [
        "import scipy.stats as stats\n",
        "\n",
        "# 요일별로 구매 금액 데이터 추출\n",
        "purchase_by_day_list = []\n",
        "for day in df_FSSH['요일'].unique():\n",
        "    day_df = df_FSSH[df_FSSH['요일'] == day]\n",
        "    day_data = day_df.dropna(subset=['구매금액'])\n",
        "    data = day_data['구매금액']\n",
        "    purchase_by_day_list.append(data)\n",
        "\n",
        "stats.kruskal(*purchase_by_day_list)"
      ],
      "metadata": {
        "colab": {
          "base_uri": "https://localhost:8080/"
        },
        "id": "_4WqKzxZi74K",
        "outputId": "8a290d9f-b27d-49b4-f26a-5cafb81e8f33"
      },
      "execution_count": 25,
      "outputs": [
        {
          "output_type": "execute_result",
          "data": {
            "text/plain": [
              "KruskalResult(statistic=105.6876345106788, pvalue=1.6278456573580912e-20)"
            ]
          },
          "metadata": {},
          "execution_count": 25
        }
      ]
    },
    {
      "cell_type": "code",
      "source": [
        "round(1.6278456573580912e-20, 6)"
      ],
      "metadata": {
        "colab": {
          "base_uri": "https://localhost:8080/"
        },
        "id": "nWSdaENokCeM",
        "outputId": "d6fa56f4-2127-491d-ad88-ab76759c2f6a"
      },
      "execution_count": 33,
      "outputs": [
        {
          "output_type": "execute_result",
          "data": {
            "text/plain": [
              "0.0"
            ]
          },
          "metadata": {},
          "execution_count": 33
        }
      ]
    },
    {
      "cell_type": "markdown",
      "source": [
        "### 분석결과\n",
        "- 통계 결론 : 연속형 데이터의 정규성을 Anderson Test로 검사 했을 때 비졍규 분포를 띔. 범주형 데이터가 3개 이상이므로 Kruskal Test 시행. p-value 0.05 이하이므로 대립 가설 채택.\n",
        "- 사실 결론 : 요일별 고객의 구매 금액 분산이 이분산을 보인다."
      ],
      "metadata": {
        "id": "gQZDP-LVi45S"
      }
    }
  ]
}